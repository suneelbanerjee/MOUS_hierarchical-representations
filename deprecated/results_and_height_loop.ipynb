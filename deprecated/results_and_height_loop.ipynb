{
 "cells": [
  {
   "cell_type": "code",
   "execution_count": 2,
   "metadata": {},
   "outputs": [],
   "source": [
    "import os\n",
    "import subprocess\n",
    "from pathlib import Path\n",
    "\n",
    "# Define the MATLAB function to call and the specific pFWE for `ijfix2`\n",
    "matlab_function = \"results_and_height\"\n",
    "default_pFWE = 1e-6\n",
    "ijfix2_pFWE = 0.01  # Example pFWE for `ijfix2`, change as needed\n"
   ]
  },
  {
   "cell_type": "code",
   "execution_count": 3,
   "metadata": {},
   "outputs": [],
   "source": [
    "second_level_dir = Path('/home/neel/Documents/SPM_results/second_level')"
   ]
  },
  {
   "cell_type": "code",
   "execution_count": null,
   "metadata": {},
   "outputs": [
    {
     "name": "stdout",
     "output_type": "stream",
     "text": [
      "Running MATLAB function in /home/neel/Documents/SPM_results/second_level/SPM-A_II_multireg_test (FINAL) with pFWE=1e-06\n",
      "Warning: Name is nonexistent or not a directory: /home/plamen/Documents/MATLAB/exchange_functions/eeg_bdf_reader \n",
      "Warning: Name is nonexistent or not a directory: /home/plamen/Documents/MATLAB \n",
      "Warning: Name is nonexistent or not a directory: /home/plamen/Documents/MATLAB/CosmoMVPA_Tutorials \n",
      "Warning: Name is nonexistent or not a directory: /home/plamen/Documents/MATLAB/Examples \n",
      "Warning: Name is nonexistent or not a directory: /home/plamen/Documents/MATLAB/Examples/R2019b \n",
      "Warning: Name is nonexistent or not a directory: /home/plamen/Documents/MATLAB/Examples/R2019b/stats \n",
      "Warning: Name is nonexistent or not a directory: /home/plamen/Documents/MATLAB/Examples/R2019b/stats/LongitudinalStudywithaCovariateExample \n",
      "Warning: Name is nonexistent or not a directory: /home/plamen/Documents/MATLAB/Examples/R2019b/stats/TestLinearRegressionModelExample \n",
      "Warning: Name is nonexistent or not a directory: /home/plamen/Documents/MATLAB/exchange_functions \n",
      "Warning: Name is nonexistent or not a directory: /home/plamen/Documents/MATLAB/exchange_functions/html \n",
      "Warning: Name is nonexistent or not a directory: /home/plamen/Documents/MATLAB/exchange_functions/natsortfiles_test \n",
      "Warning: Name is nonexistent or not a directory: /home/plamen/Documents/MATLAB/toolboxes \n",
      "Initialising batch system... Duplicate application tag in applications 'SPM' and 'SPM'.\n",
      "Duplicate application tag in applications 'BasicIO' and 'BasicIO'.\n",
      "done.\n",
      "\n",
      "\n",
      "------------------------------------------------------------------------\n",
      "06-Feb-2025 21:56:50 - Running job #1\n",
      "------------------------------------------------------------------------\n",
      "06-Feb-2025 21:56:51 - Running 'Results Report'\n",
      "\n",
      "SPM12: spm_results_ui (v7388)                      21:56:51 - 06/02/2025\n",
      "========================================================================\n",
      "\tSPM computation                 :                ...initialisi           ...height thresho           ...extent thresho                       ...done\n",
      "Warning: MATLAB has disabled some advanced graphics rendering features by switching to software OpenGL. For more information, click <a href=\"matlab:opengl('problems')\">here</a>. \n",
      "Saving results to:\n",
      "  /home/neel/Documents/SPM_results/second_level/SPM-A_II_multireg_test (FINAL)/spm_2025Feb06_001.csv\n",
      "06-Feb-2025 21:56:55 - Done    'Results Report'\n",
      "06-Feb-2025 21:56:55 - Done\n",
      "\n"
     ]
    },
    {
     "name": "stderr",
     "output_type": "stream",
     "text": [
      "Unable to resolve the name xSPM.u.\n",
      "\n",
      "Error in results_and_height (line 4)\n",
      "    spm_height_threshold = xSPM.u;\n",
      " \n"
     ]
    },
    {
     "name": "stdout",
     "output_type": "stream",
     "text": [
      "Error running MATLAB script in /home/neel/Documents/SPM_results/second_level/SPM-A_II_multireg_test (FINAL): Command 'matlab -batch \"results_and_height('/home/neel/Documents/SPM_results/second_level/SPM-A_II_multireg_test (FINAL)/SPM.mat', 1e-06)\"' returned non-zero exit status 1.\n",
      "Running MATLAB function in /home/neel/Documents/SPM_results/second_level/SPM-V_II_Zipf_multireg_december_allsubs (FINAL) with pFWE=1e-06\n",
      "Warning: Name is nonexistent or not a directory: /home/plamen/Documents/MATLAB/exchange_functions/eeg_bdf_reader \n",
      "Warning: Name is nonexistent or not a directory: /home/plamen/Documents/MATLAB \n",
      "Warning: Name is nonexistent or not a directory: /home/plamen/Documents/MATLAB/CosmoMVPA_Tutorials \n",
      "Warning: Name is nonexistent or not a directory: /home/plamen/Documents/MATLAB/Examples \n",
      "Warning: Name is nonexistent or not a directory: /home/plamen/Documents/MATLAB/Examples/R2019b \n",
      "Warning: Name is nonexistent or not a directory: /home/plamen/Documents/MATLAB/Examples/R2019b/stats \n",
      "Warning: Name is nonexistent or not a directory: /home/plamen/Documents/MATLAB/Examples/R2019b/stats/LongitudinalStudywithaCovariateExample \n",
      "Warning: Name is nonexistent or not a directory: /home/plamen/Documents/MATLAB/Examples/R2019b/stats/TestLinearRegressionModelExample \n",
      "Warning: Name is nonexistent or not a directory: /home/plamen/Documents/MATLAB/exchange_functions \n",
      "Warning: Name is nonexistent or not a directory: /home/plamen/Documents/MATLAB/exchange_functions/html \n",
      "Warning: Name is nonexistent or not a directory: /home/plamen/Documents/MATLAB/exchange_functions/natsortfiles_test \n",
      "Warning: Name is nonexistent or not a directory: /home/plamen/Documents/MATLAB/toolboxes \n",
      "Initialising batch system... Duplicate application tag in applications 'SPM' and 'SPM'.\n",
      "Duplicate application tag in applications 'BasicIO' and 'BasicIO'.\n",
      "done.\n",
      "\n",
      "\n",
      "------------------------------------------------------------------------\n",
      "06-Feb-2025 21:57:12 - Running job #1\n",
      "------------------------------------------------------------------------\n",
      "06-Feb-2025 21:57:12 - Running 'Results Report'\n",
      "\n",
      "SPM12: spm_results_ui (v7388)                      21:57:12 - 06/02/2025\n",
      "========================================================================\n",
      "\tSPM computation                 :                ...initialisi           ...height thresho           ...extent thresho                       ...done\n",
      "Warning: MATLAB has disabled some advanced graphics rendering features by switching to software OpenGL. For more information, click <a href=\"matlab:opengl('problems')\">here</a>. \n",
      "Saving results to:\n",
      "  /home/neel/Documents/SPM_results/second_level/SPM-V_II_Zipf_multireg_december_allsubs (FINAL)/spm_2025Feb06_001.csv\n",
      "06-Feb-2025 21:57:16 - Done    'Results Report'\n",
      "06-Feb-2025 21:57:16 - Done\n",
      "\n"
     ]
    },
    {
     "name": "stderr",
     "output_type": "stream",
     "text": [
      "Unable to resolve the name xSPM.u.\n",
      "\n",
      "Error in results_and_height (line 4)\n",
      "    spm_height_threshold = xSPM.u;\n",
      " \n"
     ]
    },
    {
     "name": "stdout",
     "output_type": "stream",
     "text": [
      "Error running MATLAB script in /home/neel/Documents/SPM_results/second_level/SPM-V_II_Zipf_multireg_december_allsubs (FINAL): Command 'matlab -batch \"results_and_height('/home/neel/Documents/SPM_results/second_level/SPM-V_II_Zipf_multireg_december_allsubs (FINAL)/SPM.mat', 1e-06)\"' returned non-zero exit status 1.\n",
      "Running MATLAB function in /home/neel/Documents/SPM_results/second_level/SPM-V_II_Lg10BG_multireg_november with pFWE=1e-06\n",
      "Warning: Name is nonexistent or not a directory: /home/plamen/Documents/MATLAB/exchange_functions/eeg_bdf_reader \n",
      "Warning: Name is nonexistent or not a directory: /home/plamen/Documents/MATLAB \n",
      "Warning: Name is nonexistent or not a directory: /home/plamen/Documents/MATLAB/CosmoMVPA_Tutorials \n",
      "Warning: Name is nonexistent or not a directory: /home/plamen/Documents/MATLAB/Examples \n",
      "Warning: Name is nonexistent or not a directory: /home/plamen/Documents/MATLAB/Examples/R2019b \n",
      "Warning: Name is nonexistent or not a directory: /home/plamen/Documents/MATLAB/Examples/R2019b/stats \n",
      "Warning: Name is nonexistent or not a directory: /home/plamen/Documents/MATLAB/Examples/R2019b/stats/LongitudinalStudywithaCovariateExample \n",
      "Warning: Name is nonexistent or not a directory: /home/plamen/Documents/MATLAB/Examples/R2019b/stats/TestLinearRegressionModelExample \n",
      "Warning: Name is nonexistent or not a directory: /home/plamen/Documents/MATLAB/exchange_functions \n",
      "Warning: Name is nonexistent or not a directory: /home/plamen/Documents/MATLAB/exchange_functions/html \n",
      "Warning: Name is nonexistent or not a directory: /home/plamen/Documents/MATLAB/exchange_functions/natsortfiles_test \n",
      "Warning: Name is nonexistent or not a directory: /home/plamen/Documents/MATLAB/toolboxes \n",
      "Initialising batch system... "
     ]
    }
   ],
   "source": [
    "\n",
    "# Iterate through subdirectories\n",
    "for spm_dir in second_level_dir.iterdir():\n",
    "    # Check if 'SPM.mat' exists in the current directory\n",
    "    if \"SPM.mat\" in os.listdir(spm_dir):\n",
    "        spm_mat_path = os.path.join(spm_dir, \"SPM.mat\")\n",
    "\n",
    "        # Determine the appropriate pFWE based on the directory name\n",
    "        dir_name = os.path.basename(spm_dir)\n",
    "        if dir_name.endswith('ijfix2'):\n",
    "            pFWE = ijfix2_pFWE\n",
    "        else:\n",
    "            pFWE = default_pFWE\n",
    "\n",
    "        # Construct the MATLAB command\n",
    "        matlab_command = f\"matlab -batch \\\"{matlab_function}('{spm_mat_path}', {pFWE})\\\"\"\n",
    "\n",
    "        # Print command for debugging\n",
    "        print(f\"Running MATLAB function in {spm_dir} with pFWE={pFWE}\")\n",
    "\n",
    "        # Run the MATLAB command using subprocess\n",
    "        try:\n",
    "            subprocess.run(matlab_command, shell=True, check=True)\n",
    "        except subprocess.CalledProcessError as e:\n",
    "            print(f\"Error running MATLAB script in {spm_dir}: {e}\")"
   ]
  }
 ],
 "metadata": {
  "kernelspec": {
   "display_name": "dti",
   "language": "python",
   "name": "python3"
  },
  "language_info": {
   "codemirror_mode": {
    "name": "ipython",
    "version": 3
   },
   "file_extension": ".py",
   "mimetype": "text/x-python",
   "name": "python",
   "nbconvert_exporter": "python",
   "pygments_lexer": "ipython3",
   "version": "3.8.18"
  }
 },
 "nbformat": 4,
 "nbformat_minor": 2
}
