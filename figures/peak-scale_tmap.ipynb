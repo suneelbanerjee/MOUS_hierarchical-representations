{
 "cells": [
  {
   "cell_type": "code",
   "execution_count": 1,
   "metadata": {},
   "outputs": [],
   "source": [
    "import nibabel as nib\n",
    "import numpy as np\n",
    "from pathlib import Path"
   ]
  },
  {
   "cell_type": "code",
   "execution_count": 6,
   "metadata": {},
   "outputs": [],
   "source": [
    "def scale_tmap_by_max(tmap_nifti):\n",
    "    # Load the NIfTI file\n",
    "    tmap_img = nib.load(tmap_nifti)\n",
    "    \n",
    "    # Get the data from the NIfTI file\n",
    "    tmap_data = tmap_img.get_fdata()\n",
    "    \n",
    "    # Scale the t-map by its maximum value\n",
    "    max_value = np.max(tmap_data)\n",
    "    scaled_tmap_data = tmap_data / max_value\n",
    "    \n",
    "    # Create a new NIfTI image with the scaled data\n",
    "    scaled_tmap_img = nib.Nifti1Image(scaled_tmap_data, tmap_img.affine, tmap_img.header)\n",
    "    nib.save(scaled_tmap_img, tmap_nifti.parent / f\"{tmap_nifti.stem}_peak-scaled.nii.gz\")\n",
    "    return scaled_tmap_img\n",
    "\n"
   ]
  },
  {
   "cell_type": "code",
   "execution_count": 7,
   "metadata": {},
   "outputs": [
    {
     "name": "stdout",
     "output_type": "stream",
     "text": [
      "Processing contrast: SPM-A_II_syllables_IPA_eSpeak (FINAL)\n",
      "Processing contrast: SPM-A_II_multireg_test (FINAL)\n",
      "Processing contrast: SPM-V_II_Zipf_multireg_december_allsubs (FINAL)\n",
      "Processing contrast: SPM-V_II_Lg10BG_multireg_november\n"
     ]
    }
   ],
   "source": [
    "results_dir = Path('/home/neel/Documents/SPM_results/second_level')\n",
    "for contrast_dir in results_dir.iterdir():\n",
    "    if contrast_dir.is_dir():\n",
    "        print(f\"Processing contrast: {contrast_dir.name}\")\n",
    "        tmap_file = contrast_dir / \"spmT_0001.nii\"\n",
    "        scaled_tmap_img = scale_tmap_by_max(tmap_file)"
   ]
  }
 ],
 "metadata": {
  "kernelspec": {
   "display_name": "dti",
   "language": "python",
   "name": "python3"
  },
  "language_info": {
   "codemirror_mode": {
    "name": "ipython",
    "version": 3
   },
   "file_extension": ".py",
   "mimetype": "text/x-python",
   "name": "python",
   "nbconvert_exporter": "python",
   "pygments_lexer": "ipython3",
   "version": "3.8.18"
  }
 },
 "nbformat": 4,
 "nbformat_minor": 2
}
