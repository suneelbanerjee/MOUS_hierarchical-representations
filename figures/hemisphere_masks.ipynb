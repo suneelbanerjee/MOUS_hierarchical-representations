{
 "cells": [
  {
   "cell_type": "code",
   "execution_count": 1,
   "metadata": {},
   "outputs": [],
   "source": [
    "import nibabel as nib\n",
    "import numpy as np\n",
    "from pathlib import Path"
   ]
  },
  {
   "cell_type": "code",
   "execution_count": 6,
   "metadata": {},
   "outputs": [],
   "source": [
    "def scale_tmap_by_max(tmap_nifti):\n",
    "    # Load the NIfTI file\n",
    "    tmap_img = nib.load(tmap_nifti)\n",
    "    \n",
    "    # Get the data from the NIfTI file\n",
    "    tmap_data = tmap_img.get_fdata()\n",
    "    \n",
    "    # Scale the t-map by its maximum value\n",
    "    max_value = np.max(tmap_data)\n",
    "    scaled_tmap_data = tmap_data / max_value\n",
    "    \n",
    "    # Create a new NIfTI image with the scaled data\n",
    "    scaled_tmap_img = nib.Nifti1Image(scaled_tmap_data, tmap_img.affine, tmap_img.header)\n",
    "    nib.save(scaled_tmap_img, tmap_nifti.parent / f\"{tmap_nifti.stem}_peak-scaled.nii.gz\")\n",
    "    return scaled_tmap_img\n",
    "\n"
   ]
  },
  {
   "cell_type": "code",
   "execution_count": 7,
   "metadata": {},
   "outputs": [
    {
     "name": "stdout",
     "output_type": "stream",
     "text": [
      "Processing contrast: SPM-A_II_syllables_IPA_eSpeak (FINAL)\n",
      "Processing contrast: SPM-A_II_multireg_test (FINAL)\n",
      "Processing contrast: SPM-V_II_Zipf_multireg_december_allsubs (FINAL)\n",
      "Processing contrast: SPM-V_II_Lg10BG_multireg_november\n"
     ]
    }
   ],
   "source": [
    "results_dir = Path('/home/neel/Documents/SPM_results/second_level')\n",
    "for contrast_dir in results_dir.iterdir():\n",
    "    if contrast_dir.is_dir():\n",
    "        print(f\"Processing contrast: {contrast_dir.name}\")\n",
    "        tmap_file = contrast_dir / \"spmT_0001.nii\"\n",
    "        scaled_tmap_img = scale_tmap_by_max(tmap_file)"
   ]
  },
  {
   "cell_type": "markdown",
   "metadata": {},
   "source": [
    "Function to split each tmap into L/R hemispheric halves"
   ]
  },
  {
   "cell_type": "code",
   "execution_count": 4,
   "metadata": {},
   "outputs": [],
   "source": [
    "import nibabel as nib\n",
    "import numpy as np\n",
    "from pathlib import Path\n",
    "\n",
    "def split_tmap_left_right(tmap_file, left_output=\"left_tmap.nii.gz\", right_output=\"right_tmap.nii.gz\"):\n",
    "    \"\"\"\n",
    "    Loads a T-map in MNI space and splits it into two volumes:\n",
    "      1) left_tmap.nii.gz: contains T-values where x < 0\n",
    "      2) right_tmap.nii.gz: contains T-values where x > 0\n",
    "    \n",
    "    Voxels outside the chosen hemisphere are zeroed out.\n",
    "    Voxels exactly on x=0 are ignored (set to zero) by default.\n",
    "    \"\"\"\n",
    "    #--------------------------------------------------------------------------\n",
    "    # 1) Load the T-map (in MNI space)\n",
    "    #--------------------------------------------------------------------------\n",
    "    tmap_img = nib.load(tmap_file)\n",
    "    tmap_data = tmap_img.get_fdata()\n",
    "    affine = tmap_img.affine\n",
    "    header = tmap_img.header  # preserve header if desired\n",
    "\n",
    "    #--------------------------------------------------------------------------\n",
    "    # 2) Determine the real-world (MNI) x-coordinates of each voxel\n",
    "    #--------------------------------------------------------------------------\n",
    "    dims = tmap_data.shape\n",
    "    i, j, k = np.meshgrid(\n",
    "        np.arange(dims[0]),\n",
    "        np.arange(dims[1]),\n",
    "        np.arange(dims[2]),\n",
    "        indexing=\"ij\"\n",
    "    )\n",
    "\n",
    "    voxel_coords = np.column_stack((i.flatten(), j.flatten(), k.flatten()))\n",
    "    mni_coords = nib.affines.apply_affine(affine, voxel_coords)\n",
    "\n",
    "    # x-coordinates in MNI space\n",
    "    x_coords = mni_coords[:, 0]\n",
    "\n",
    "    #--------------------------------------------------------------------------\n",
    "    # 3) Create arrays to hold left- and right-hemisphere T-values\n",
    "    #--------------------------------------------------------------------------\n",
    "    left_tmap_data = np.zeros(dims, dtype=tmap_data.dtype)\n",
    "    right_tmap_data = np.zeros(dims, dtype=tmap_data.dtype)\n",
    "\n",
    "    # Masks for x < 0 (left) and x > 0 (right)\n",
    "    left_mask = x_coords < 0\n",
    "    right_mask = x_coords > 0\n",
    "\n",
    "    #--------------------------------------------------------------------------\n",
    "    # 4) Assign T-values to left/right volumes\n",
    "    #--------------------------------------------------------------------------\n",
    "    # Left hemisphere\n",
    "    left_indices = voxel_coords[left_mask]\n",
    "    left_tmap_data[left_indices[:, 0],\n",
    "                   left_indices[:, 1],\n",
    "                   left_indices[:, 2]] = tmap_data[left_indices[:, 0],\n",
    "                                                  left_indices[:, 1],\n",
    "                                                  left_indices[:, 2]]\n",
    "\n",
    "    # Right hemisphere\n",
    "    right_indices = voxel_coords[right_mask]\n",
    "    right_tmap_data[right_indices[:, 0],\n",
    "                    right_indices[:, 1],\n",
    "                    right_indices[:, 2]] = tmap_data[right_indices[:, 0],\n",
    "                                                     right_indices[:, 1],\n",
    "                                                     right_indices[:, 2]]\n",
    "\n",
    "    #--------------------------------------------------------------------------\n",
    "    # 5) Save out NIfTI files for left/right T-maps\n",
    "    #--------------------------------------------------------------------------\n",
    "    left_img = nib.Nifti1Image(left_tmap_data, affine, header=header)\n",
    "    right_img = nib.Nifti1Image(right_tmap_data, affine, header=header)\n",
    "\n",
    "\n",
    "    dir = Path(tmap_file).parent\n",
    "    left_output = dir / left_output\n",
    "    right_output = dir / right_output\n",
    "    nib.save(left_img, str(left_output))\n",
    "    nib.save(right_img, str(right_output))\n",
    "\n",
    "    print(f\"Saved left hemisphere T-map to: {left_output}\")\n",
    "    print(f\"Saved right hemisphere T-map to: {right_output}\")"
   ]
  },
  {
   "cell_type": "code",
   "execution_count": 5,
   "metadata": {},
   "outputs": [
    {
     "name": "stdout",
     "output_type": "stream",
     "text": [
      "Processing contrast: SPM-A_II_syllables_IPA_eSpeak (FINAL)\n",
      "Saved left hemisphere T-map to: /home/neel/Documents/SPM_results/second_level/SPM-A_II_syllables_IPA_eSpeak (FINAL)/left_tmap.nii.gz\n",
      "Saved right hemisphere T-map to: /home/neel/Documents/SPM_results/second_level/SPM-A_II_syllables_IPA_eSpeak (FINAL)/right_tmap.nii.gz\n",
      "Processing contrast: SPM-A_II_multireg_test (FINAL)\n",
      "Saved left hemisphere T-map to: /home/neel/Documents/SPM_results/second_level/SPM-A_II_multireg_test (FINAL)/left_tmap.nii.gz\n",
      "Saved right hemisphere T-map to: /home/neel/Documents/SPM_results/second_level/SPM-A_II_multireg_test (FINAL)/right_tmap.nii.gz\n",
      "Processing contrast: SPM-V_II_Zipf_multireg_december_allsubs (FINAL)\n",
      "Saved left hemisphere T-map to: /home/neel/Documents/SPM_results/second_level/SPM-V_II_Zipf_multireg_december_allsubs (FINAL)/left_tmap.nii.gz\n",
      "Saved right hemisphere T-map to: /home/neel/Documents/SPM_results/second_level/SPM-V_II_Zipf_multireg_december_allsubs (FINAL)/right_tmap.nii.gz\n",
      "Processing contrast: SPM-V_II_Lg10BG_multireg_november\n",
      "Saved left hemisphere T-map to: /home/neel/Documents/SPM_results/second_level/SPM-V_II_Lg10BG_multireg_november/left_tmap.nii.gz\n",
      "Saved right hemisphere T-map to: /home/neel/Documents/SPM_results/second_level/SPM-V_II_Lg10BG_multireg_november/right_tmap.nii.gz\n"
     ]
    }
   ],
   "source": [
    "results_dir = Path('/home/neel/Documents/SPM_results/second_level')\n",
    "for contrast_dir in results_dir.iterdir():\n",
    "    if contrast_dir.is_dir():\n",
    "        print(f\"Processing contrast: {contrast_dir.name}\")\n",
    "        tmap_file = contrast_dir / \"spmT_0001.nii\"\n",
    "        split_tmap_left_right(tmap_file, left_output=\"left_tmap.nii.gz\", right_output=\"right_tmap.nii.gz\")"
   ]
  }
 ],
 "metadata": {
  "kernelspec": {
   "display_name": "dti",
   "language": "python",
   "name": "python3"
  },
  "language_info": {
   "codemirror_mode": {
    "name": "ipython",
    "version": 3
   },
   "file_extension": ".py",
   "mimetype": "text/x-python",
   "name": "python",
   "nbconvert_exporter": "python",
   "pygments_lexer": "ipython3",
   "version": "3.8.18"
  }
 },
 "nbformat": 4,
 "nbformat_minor": 2
}
