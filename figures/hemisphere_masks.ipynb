{
 "cells": [
  {
   "cell_type": "code",
   "execution_count": 1,
   "metadata": {},
   "outputs": [],
   "source": [
    "import nibabel as nib\n",
    "import numpy as np\n"
   ]
  },
  {
   "cell_type": "markdown",
   "metadata": {},
   "source": [
    "Generate L/R hemisphere masks."
   ]
  },
  {
   "cell_type": "code",
   "execution_count": 2,
   "metadata": {},
   "outputs": [
    {
     "name": "stdout",
     "output_type": "stream",
     "text": [
      "Left/right hemisphere masks saved. They now only include non-zero template voxels.\n"
     ]
    }
   ],
   "source": [
    "\n",
    "#-----------------------------------------------------------------------------\n",
    "# Load the MNI152 template\n",
    "#-----------------------------------------------------------------------------\n",
    "template_path = \"mni152.nii.gz\"  # Update with your template path\n",
    "template_img = nib.load(template_path)\n",
    "template_data = template_img.get_fdata()  # We won't really use it, but we need its shape\n",
    "affine = template_img.affine\n",
    "\n",
    "#-----------------------------------------------------------------------------\n",
    "# 2. Create a \"non-zero\" mask from the template\n",
    "#-----------------------------------------------------------------------------\n",
    "nonzero_mask = template_data != 0\n",
    "\n",
    "#-----------------------------------------------------------------------------\n",
    "# 3. Generate voxel indices and convert to real-world MNI coordinates\n",
    "#-----------------------------------------------------------------------------\n",
    "dims = template_data.shape\n",
    "i, j, k = np.meshgrid(\n",
    "    np.arange(dims[0]),\n",
    "    np.arange(dims[1]),\n",
    "    np.arange(dims[2]),\n",
    "    indexing=\"ij\"\n",
    ")\n",
    "\n",
    "voxel_coords = np.column_stack((i.flatten(), j.flatten(), k.flatten()))\n",
    "mni_coords = nib.affines.apply_affine(affine, voxel_coords)\n",
    "x_coords = mni_coords[:, 0]\n",
    "\n",
    "#-----------------------------------------------------------------------------\n",
    "# 4. Create left and right hemisphere masks\n",
    "#-----------------------------------------------------------------------------\n",
    "left_mask = np.zeros(dims, dtype=np.uint8)\n",
    "right_mask = np.zeros(dims, dtype=np.uint8)\n",
    "\n",
    "left_voxels = x_coords < 0\n",
    "right_voxels = x_coords > 0\n",
    "\n",
    "left_mask[\n",
    "    voxel_coords[left_voxels, 0],\n",
    "    voxel_coords[left_voxels, 1],\n",
    "    voxel_coords[left_voxels, 2]\n",
    "] = 1\n",
    "\n",
    "right_mask[\n",
    "    voxel_coords[right_voxels, 0],\n",
    "    voxel_coords[right_voxels, 1],\n",
    "    voxel_coords[right_voxels, 2]\n",
    "] = 1\n",
    "\n",
    "#-----------------------------------------------------------------------------\n",
    "# 5. Restrict masks to only the non-zero region in the template\n",
    "#-----------------------------------------------------------------------------\n",
    "left_mask = left_mask * nonzero_mask\n",
    "right_mask = right_mask * nonzero_mask\n",
    "\n",
    "#-----------------------------------------------------------------------------\n",
    "# 6. Save out the NIfTI masks\n",
    "#-----------------------------------------------------------------------------\n",
    "left_mask_img = nib.Nifti1Image(left_mask, affine)\n",
    "right_mask_img = nib.Nifti1Image(right_mask, affine)\n",
    "\n",
    "nib.save(left_mask_img, \"left_hem_mask.nii.gz\")\n",
    "nib.save(right_mask_img, \"right_hem_mask.nii.gz\")\n",
    "\n",
    "print(\"Left/right hemisphere masks saved. They now only include non-zero template voxels.\")"
   ]
  },
  {
   "cell_type": "markdown",
   "metadata": {},
   "source": [
    "Mask bigram and lexical frequency correlation contrasts with L/R masks. Specifically, divide right-hemisphere by left hemispheric activation."
   ]
  },
  {
   "cell_type": "code",
   "execution_count": 3,
   "metadata": {},
   "outputs": [],
   "source": [
    "from pathlib import Path\n",
    "lexical_tmap = Path('/home/neel/Documents/SPM_results/SPM-V_II_Zipf_multireg (FINAL)/spmT_0001.nii')\n",
    "lex_tmap = nib.load(lexical_tmap)\n",
    "lex_data = lex_tmap.get_fdata()\n",
    "lex_affine = lex_tmap.affine\n",
    "\n",
    "# #masking the lex_data with left and right hemisphere masks\n",
    "# left_lex_data = lex_data * left_mask\n",
    "# right_lex_data = lex_data * right_mask\n",
    "\n",
    "# #divide right by left\n",
    "# right_by_left = right_lex_data / left_lex_data\n",
    "# #save this out as a nifti file\n",
    "# right_by_left_img = nib.Nifti1Image(right_by_left, lex_affine)\n",
    "# nib.save(right_by_left_img, \"right_by_left.nii.gz\")\n",
    "# print(\"Right by left hemisphere mask saved.\")\n"
   ]
  },
  {
   "cell_type": "code",
   "execution_count": 4,
   "metadata": {},
   "outputs": [],
   "source": [
    "#divide every value in the lex_data by the maximum T-value of lex_data\n",
    "max_lex_data = np.max(lex_data)\n",
    "lex_data = lex_data / max_lex_data\n",
    "#save this out as a nifti file\n",
    "lex_data_img = nib.Nifti1Image(lex_data, lex_affine)\n",
    "nib.save(lex_data_img, \"visual_word_tmap_pct_vwfa.nii.gz\")\n"
   ]
  },
  {
   "cell_type": "code",
   "execution_count": 5,
   "metadata": {},
   "outputs": [],
   "source": [
    "\n",
    "bigram_tmap = Path('/home/neel/Documents/SPM_results/SPM-V_II_Lg10BG_multireg_november (FINAL)/spmT_0001.nii')\n",
    "bigram_tmap = nib.load(bigram_tmap)\n",
    "bigram_data = bigram_tmap.get_fdata()\n",
    "bigram_affine = bigram_tmap.affine\n",
    "\n",
    "#do the same thing as above: divide every value in the bigram_data by the maximum T-value of bigram_data\n",
    "max_bigram_data = np.max(bigram_data)\n",
    "bigram_data = bigram_data / max_bigram_data\n",
    "#save this out as a nifti file\n",
    "bigram_data_img = nib.Nifti1Image(bigram_data, bigram_affine)\n",
    "nib.save(bigram_data_img, \"visual_bigram_tmap_pct_op.nii.gz\")"
   ]
  }
 ],
 "metadata": {
  "kernelspec": {
   "display_name": "dti",
   "language": "python",
   "name": "python3"
  },
  "language_info": {
   "codemirror_mode": {
    "name": "ipython",
    "version": 3
   },
   "file_extension": ".py",
   "mimetype": "text/x-python",
   "name": "python",
   "nbconvert_exporter": "python",
   "pygments_lexer": "ipython3",
   "version": "3.8.18"
  }
 },
 "nbformat": 4,
 "nbformat_minor": 2
}
