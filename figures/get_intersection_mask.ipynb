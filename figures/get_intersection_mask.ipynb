{
 "cells": [
  {
   "cell_type": "code",
   "execution_count": 5,
   "id": "1033149c",
   "metadata": {},
   "outputs": [],
   "source": [
    "import nibabel as nib\n",
    "import numpy as np\n",
    "import os\n",
    "from pathlib import Path\n",
    "\n"
   ]
  },
  {
   "cell_type": "code",
   "execution_count": 13,
   "id": "6b15b588",
   "metadata": {},
   "outputs": [],
   "source": [
    "#VISUAL\n",
    "results = Path('/media/neel/MOUS/MOUS/MOUS/SPM_results/second_level/')\n",
    "bigram = results / 'SPM-V_II_bigram/spmT_0001_Ke_20_peak-scaled.nii.gz'\n",
    "visual_word = results / 'SPM-V_II/spmT_0001_Ke_20_peak-scaled.nii.gz'\n",
    "\n",
    "#AUDITORY\n",
    "syllable = results /  'SPM-A_II_syllables_IPA_eSpeak_ijfix2/spmT_0001_Ke_20_peak-scaled.nii.gz'\n",
    "auditory_word = results / 'SPM-A_II/spmT_0001_Ke_20_peak-scaled.nii.gz'\n"
   ]
  },
  {
   "cell_type": "code",
   "execution_count": 14,
   "id": "d91c560c",
   "metadata": {},
   "outputs": [],
   "source": [
    "def get_intersection_mask(tmap1_path, tmap2_path, threshold1, threshold2, output_path=None):\n",
    "    \"\"\"\n",
    "    Generate a binary intersection mask of two thresholded T-maps.\n",
    "\n",
    "    Parameters:\n",
    "    - tmap1_path: Path to first T-map NIfTI file.\n",
    "    - tmap2_path: Path to second T-map NIfTI file.\n",
    "    - threshold1: Minimum threshold for T-map 1 (e.g., height threshold).\n",
    "    - threshold2: Minimum threshold for T-map 2.\n",
    "    - output_path: Optional path to save intersection mask (as NIfTI file).\n",
    "\n",
    "    Returns:\n",
    "    - intersection_mask: Numpy array of the intersection (1 where both maps > thresholds, else 0).\n",
    "    \"\"\"\n",
    "\n",
    "    # Load T-maps\n",
    "    img1 = nib.load(tmap1_path)\n",
    "    img2 = nib.load(tmap2_path)\n",
    "    data1 = img1.get_fdata()\n",
    "    data2 = img2.get_fdata()\n",
    "\n",
    "    # Threshold the maps\n",
    "    mask1 = data1 > threshold1\n",
    "    mask2 = data2 > threshold2\n",
    "\n",
    "    # Intersection of both masks\n",
    "    intersection = np.logical_and(mask1, mask2).astype(np.uint8)\n",
    "\n",
    "    if output_path:\n",
    "        # Save to NIfTI\n",
    "        out_img = nib.Nifti1Image(intersection, affine=img1.affine, header=img1.header)\n",
    "        nib.save(out_img, output_path)\n",
    "        print(f\"Intersection mask saved to: {output_path}\")\n",
    "\n",
    "    return intersection\n"
   ]
  },
  {
   "cell_type": "code",
   "execution_count": 15,
   "id": "bc4031e0",
   "metadata": {},
   "outputs": [
    {
     "name": "stdout",
     "output_type": "stream",
     "text": [
      "Intersection mask saved to: /home/neel/Desktop/MOUS_hierarchical-representations/figures/intersection_masks/bigram_word_intersection.nii.gz\n"
     ]
    },
    {
     "data": {
      "text/plain": [
       "array([[[0, 0, 0, ..., 0, 0, 0],\n",
       "        [0, 0, 0, ..., 0, 0, 0],\n",
       "        [0, 0, 0, ..., 0, 0, 0],\n",
       "        ...,\n",
       "        [0, 0, 0, ..., 0, 0, 0],\n",
       "        [0, 0, 0, ..., 0, 0, 0],\n",
       "        [0, 0, 0, ..., 0, 0, 0]],\n",
       "\n",
       "       [[0, 0, 0, ..., 0, 0, 0],\n",
       "        [0, 0, 0, ..., 0, 0, 0],\n",
       "        [0, 0, 0, ..., 0, 0, 0],\n",
       "        ...,\n",
       "        [0, 0, 0, ..., 0, 0, 0],\n",
       "        [0, 0, 0, ..., 0, 0, 0],\n",
       "        [0, 0, 0, ..., 0, 0, 0]],\n",
       "\n",
       "       [[0, 0, 0, ..., 0, 0, 0],\n",
       "        [0, 0, 0, ..., 0, 0, 0],\n",
       "        [0, 0, 0, ..., 0, 0, 0],\n",
       "        ...,\n",
       "        [0, 0, 0, ..., 0, 0, 0],\n",
       "        [0, 0, 0, ..., 0, 0, 0],\n",
       "        [0, 0, 0, ..., 0, 0, 0]],\n",
       "\n",
       "       ...,\n",
       "\n",
       "       [[0, 0, 0, ..., 0, 0, 0],\n",
       "        [0, 0, 0, ..., 0, 0, 0],\n",
       "        [0, 0, 0, ..., 0, 0, 0],\n",
       "        ...,\n",
       "        [0, 0, 0, ..., 0, 0, 0],\n",
       "        [0, 0, 0, ..., 0, 0, 0],\n",
       "        [0, 0, 0, ..., 0, 0, 0]],\n",
       "\n",
       "       [[0, 0, 0, ..., 0, 0, 0],\n",
       "        [0, 0, 0, ..., 0, 0, 0],\n",
       "        [0, 0, 0, ..., 0, 0, 0],\n",
       "        ...,\n",
       "        [0, 0, 0, ..., 0, 0, 0],\n",
       "        [0, 0, 0, ..., 0, 0, 0],\n",
       "        [0, 0, 0, ..., 0, 0, 0]],\n",
       "\n",
       "       [[0, 0, 0, ..., 0, 0, 0],\n",
       "        [0, 0, 0, ..., 0, 0, 0],\n",
       "        [0, 0, 0, ..., 0, 0, 0],\n",
       "        ...,\n",
       "        [0, 0, 0, ..., 0, 0, 0],\n",
       "        [0, 0, 0, ..., 0, 0, 0],\n",
       "        [0, 0, 0, ..., 0, 0, 0]]], dtype=uint8)"
      ]
     },
     "execution_count": 15,
     "metadata": {},
     "output_type": "execute_result"
    }
   ],
   "source": [
    "output = Path('/home/neel/Desktop/MOUS_hierarchical-representations/figures/intersection_masks/')\n",
    "get_intersection_mask(bigram, visual_word, threshold1=0.5, threshold2=0.5, output_path=output / 'bigram_word_intersection.nii.gz')"
   ]
  },
  {
   "cell_type": "code",
   "execution_count": 16,
   "id": "914bff4b",
   "metadata": {},
   "outputs": [
    {
     "name": "stdout",
     "output_type": "stream",
     "text": [
      "Intersection mask saved to: /home/neel/Desktop/MOUS_hierarchical-representations/figures/intersection_masks/syllable_word_intersection.nii.gz\n"
     ]
    },
    {
     "data": {
      "text/plain": [
       "array([[[0, 0, 0, ..., 0, 0, 0],\n",
       "        [0, 0, 0, ..., 0, 0, 0],\n",
       "        [0, 0, 0, ..., 0, 0, 0],\n",
       "        ...,\n",
       "        [0, 0, 0, ..., 0, 0, 0],\n",
       "        [0, 0, 0, ..., 0, 0, 0],\n",
       "        [0, 0, 0, ..., 0, 0, 0]],\n",
       "\n",
       "       [[0, 0, 0, ..., 0, 0, 0],\n",
       "        [0, 0, 0, ..., 0, 0, 0],\n",
       "        [0, 0, 0, ..., 0, 0, 0],\n",
       "        ...,\n",
       "        [0, 0, 0, ..., 0, 0, 0],\n",
       "        [0, 0, 0, ..., 0, 0, 0],\n",
       "        [0, 0, 0, ..., 0, 0, 0]],\n",
       "\n",
       "       [[0, 0, 0, ..., 0, 0, 0],\n",
       "        [0, 0, 0, ..., 0, 0, 0],\n",
       "        [0, 0, 0, ..., 0, 0, 0],\n",
       "        ...,\n",
       "        [0, 0, 0, ..., 0, 0, 0],\n",
       "        [0, 0, 0, ..., 0, 0, 0],\n",
       "        [0, 0, 0, ..., 0, 0, 0]],\n",
       "\n",
       "       ...,\n",
       "\n",
       "       [[0, 0, 0, ..., 0, 0, 0],\n",
       "        [0, 0, 0, ..., 0, 0, 0],\n",
       "        [0, 0, 0, ..., 0, 0, 0],\n",
       "        ...,\n",
       "        [0, 0, 0, ..., 0, 0, 0],\n",
       "        [0, 0, 0, ..., 0, 0, 0],\n",
       "        [0, 0, 0, ..., 0, 0, 0]],\n",
       "\n",
       "       [[0, 0, 0, ..., 0, 0, 0],\n",
       "        [0, 0, 0, ..., 0, 0, 0],\n",
       "        [0, 0, 0, ..., 0, 0, 0],\n",
       "        ...,\n",
       "        [0, 0, 0, ..., 0, 0, 0],\n",
       "        [0, 0, 0, ..., 0, 0, 0],\n",
       "        [0, 0, 0, ..., 0, 0, 0]],\n",
       "\n",
       "       [[0, 0, 0, ..., 0, 0, 0],\n",
       "        [0, 0, 0, ..., 0, 0, 0],\n",
       "        [0, 0, 0, ..., 0, 0, 0],\n",
       "        ...,\n",
       "        [0, 0, 0, ..., 0, 0, 0],\n",
       "        [0, 0, 0, ..., 0, 0, 0],\n",
       "        [0, 0, 0, ..., 0, 0, 0]]], dtype=uint8)"
      ]
     },
     "execution_count": 16,
     "metadata": {},
     "output_type": "execute_result"
    }
   ],
   "source": [
    "get_intersection_mask(syllable, auditory_word, threshold1=0.7, threshold2=0.7, output_path=output / 'syllable_word_intersection.nii.gz')"
   ]
  },
  {
   "cell_type": "code",
   "execution_count": null,
   "id": "3189fafc",
   "metadata": {},
   "outputs": [],
   "source": []
  }
 ],
 "metadata": {
  "kernelspec": {
   "display_name": "dti",
   "language": "python",
   "name": "python3"
  },
  "language_info": {
   "codemirror_mode": {
    "name": "ipython",
    "version": 3
   },
   "file_extension": ".py",
   "mimetype": "text/x-python",
   "name": "python",
   "nbconvert_exporter": "python",
   "pygments_lexer": "ipython3",
   "version": "3.8.18"
  }
 },
 "nbformat": 4,
 "nbformat_minor": 5
}
