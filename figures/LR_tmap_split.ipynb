{
 "cells": [
  {
   "cell_type": "code",
   "execution_count": 9,
   "metadata": {},
   "outputs": [],
   "source": [
    "import nibabel as nib\n",
    "import numpy as np\n",
    "import os"
   ]
  },
  {
   "cell_type": "code",
   "execution_count": 10,
   "metadata": {},
   "outputs": [],
   "source": [
    "def split_tmap_hemispheres(tmap_path, output_dir):\n",
    "    # Load the T-map NIfTI file\n",
    "    img = nib.load(str(tmap_path))\n",
    "    data = img.get_fdata()\n",
    "    affine = img.affine\n",
    "    \n",
    "    # Get the voxel indices for the middle (x=0) based on the affine\n",
    "    x_voxel_coords = np.arange(data.shape[0])  # Get voxel indices along x-axis\n",
    "    x_world_coords = nib.affines.apply_affine(affine, np.column_stack([x_voxel_coords, np.zeros_like(x_voxel_coords), np.zeros_like(x_voxel_coords)]))[:, 0]\n",
    "    \n",
    "    # Find the voxel index closest to x=0 in world space\n",
    "    mid_x_index = np.argmin(np.abs(x_world_coords))\n",
    "\n",
    "    # Create left hemisphere (erase right, x > 0)\n",
    "    left_data = data.copy()\n",
    "    left_data[mid_x_index:, :, :] = 0  # Zero out right hemisphere\n",
    "    left_img = nib.Nifti1Image(left_data, affine, img.header)\n",
    "    left_output_path = os.path.join(output_dir, f'{tmap_path.stem}_left.nii.gz')\n",
    "    nib.save(left_img, left_output_path)\n",
    "\n",
    "    # Create right hemisphere (erase left, x < 0)\n",
    "    right_data = data.copy()\n",
    "    right_data[:mid_x_index, :, :] = 0  # Zero out left hemisphere\n",
    "    right_img = nib.Nifti1Image(right_data, affine, img.header)\n",
    "    right_output_path = os.path.join(output_dir, f'{tmap_path.stem}_right.nii.gz')\n",
    "    nib.save(right_img, right_output_path)\n",
    "\n",
    "    print(f\"Saved left hemisphere T-map to: {left_output_path}\")\n",
    "    print(f\"Saved right hemisphere T-map to: {right_output_path}\")\n",
    "\n"
   ]
  },
  {
   "cell_type": "code",
   "execution_count": 11,
   "metadata": {},
   "outputs": [
    {
     "name": "stdout",
     "output_type": "stream",
     "text": [
      "/home/neel/Documents/SPM_results/second_level/SPM-V_II/spmT_0001.nii\n",
      "Saved left hemisphere T-map to: /home/neel/Documents/SPM_results/second_level/SPM-V_II/spmT_0001_left.nii.gz\n",
      "Saved right hemisphere T-map to: /home/neel/Documents/SPM_results/second_level/SPM-V_II/spmT_0001_right.nii.gz\n",
      "/home/neel/Documents/SPM_results/second_level/SPM-V_II_bigram/spmT_0001.nii\n",
      "Saved left hemisphere T-map to: /home/neel/Documents/SPM_results/second_level/SPM-V_II_bigram/spmT_0001_left.nii.gz\n",
      "Saved right hemisphere T-map to: /home/neel/Documents/SPM_results/second_level/SPM-V_II_bigram/spmT_0001_right.nii.gz\n",
      "/home/neel/Documents/SPM_results/second_level/SPM-A_II/spmT_0001.nii\n",
      "Saved left hemisphere T-map to: /home/neel/Documents/SPM_results/second_level/SPM-A_II/spmT_0001_left.nii.gz\n",
      "Saved right hemisphere T-map to: /home/neel/Documents/SPM_results/second_level/SPM-A_II/spmT_0001_right.nii.gz\n",
      "/home/neel/Documents/SPM_results/second_level/SPM-A_II_syllables_IPA_eSpeak_ijfix2/spmT_0001.nii\n",
      "Saved left hemisphere T-map to: /home/neel/Documents/SPM_results/second_level/SPM-A_II_syllables_IPA_eSpeak_ijfix2/spmT_0001_left.nii.gz\n",
      "Saved right hemisphere T-map to: /home/neel/Documents/SPM_results/second_level/SPM-A_II_syllables_IPA_eSpeak_ijfix2/spmT_0001_right.nii.gz\n"
     ]
    }
   ],
   "source": [
    "from pathlib import Path\n",
    "second_level =Path('/home/neel/Documents/SPM_results/second_level')\n",
    "for tmap in second_level.glob('**/spmT_0001.nii'):\n",
    "    print(tmap)\n",
    "    split_tmap_hemispheres(tmap, tmap.parent)\n"
   ]
  },
  {
   "cell_type": "code",
   "execution_count": 12,
   "metadata": {},
   "outputs": [],
   "source": [
    "import numpy as np\n",
    "import nibabel as nib\n",
    "from scipy import ndimage\n",
    "\n",
    "def spm_extent_threshold(input_nii, output_nii, height_threshold=3.0, extent_threshold_voxels=20):\n",
    "    \"\"\"\n",
    "    Apply extent thresholding similar to SPM12’s approach for T-maps.\n",
    "    \n",
    "    The function:\n",
    "      1. Loads a T-map NIfTI file.\n",
    "      2. Creates a binary mask of voxels exceeding a specified height threshold.\n",
    "      3. Labels contiguous clusters using an 18-connected neighborhood.\n",
    "      4. Filters out clusters smaller than the specified extent (in voxels).\n",
    "      5. Retains the original T values for surviving clusters and sets the rest to zero.\n",
    "      6. Saves the result as a new NIfTI file.\n",
    "      \n",
    "    Parameters:\n",
    "      input_nii (str): Path to the input T-map (NIfTI file).\n",
    "      output_nii (str): Path where the output thresholded NIfTI file will be saved.\n",
    "      height_threshold (float): Voxel-level threshold (e.g., T > 3.0).\n",
    "      extent_threshold_voxels (int): Minimum cluster size (in voxels) required to retain a cluster.\n",
    "    \"\"\"\n",
    "    # Load the NIfTI image\n",
    "    img = nib.load(input_nii)\n",
    "    data = img.get_fdata()\n",
    "    \n",
    "    # Create a binary mask based on the height threshold\n",
    "    # (Only voxels with T values above height_threshold are considered)\n",
    "    binary_mask = data > height_threshold\n",
    "\n",
    "    # Define an 18-connected neighborhood structure.\n",
    "    # Create a 3x3x3 block of ones and remove the 8 corner voxels.\n",
    "    structure = np.ones((3, 3, 3), dtype=int)\n",
    "    corner_offsets = [(0, 0, 0), (0, 0, 2), (0, 2, 0), (0, 2, 2),\n",
    "                      (2, 0, 0), (2, 0, 2), (2, 2, 0), (2, 2, 2)]\n",
    "    for cx, cy, cz in corner_offsets:\n",
    "        structure[cx, cy, cz] = 0\n",
    "\n",
    "    # Label connected clusters in the binary mask\n",
    "    labels, n_clusters = ndimage.label(binary_mask, structure=structure)\n",
    "\n",
    "    # Compute the size of each cluster (background label 0 is ignored)\n",
    "    cluster_sizes = np.bincount(labels.ravel())\n",
    "    \n",
    "    # Identify cluster labels meeting the extent threshold (exclude background: label 0)\n",
    "    valid_labels = np.where(cluster_sizes >= extent_threshold_voxels)[0]\n",
    "    valid_labels = valid_labels[valid_labels != 0]  # remove the background label\n",
    "\n",
    "    # Create a mask that is True only for voxels in valid (large enough) clusters\n",
    "    valid_mask = np.isin(labels, valid_labels)\n",
    "\n",
    "    # Generate the filtered data: keep original intensities where valid, set others to 0\n",
    "    filtered_data = np.zeros_like(data)\n",
    "    filtered_data[valid_mask] = data[valid_mask]\n",
    "\n",
    "    # Save the resulting image\n",
    "    filtered_img = nib.Nifti1Image(filtered_data, img.affine, img.header)\n",
    "    nib.save(filtered_img, output_nii)\n",
    "    \n",
    "    print(f\"Thresholded T-map saved to: {output_nii}\")\n",
    "\n"
   ]
  },
  {
   "cell_type": "code",
   "execution_count": null,
   "metadata": {},
   "outputs": [
    {
     "name": "stdout",
     "output_type": "stream",
     "text": [
      "Thresholded T-map saved to: /home/neel/Documents/SPM_results/second_level/SPM-V_II/spmT_0001_Ke_20.nii.gz\n",
      "Thresholded T-map saved to: /home/neel/Documents/SPM_results/second_level/SPM-V_II_bigram/spmT_0001_Ke_20.nii.gz\n",
      "Thresholded T-map saved to: /home/neel/Documents/SPM_results/second_level/SPM-A_II/spmT_0001_Ke_20.nii.gz\n",
      "Thresholded T-map saved to: /home/neel/Documents/SPM_results/second_level/SPM-A_II_syllables_IPA_eSpeak_ijfix2/spmT_0001_Ke_20.nii.gz\n"
     ]
    }
   ],
   "source": [
    "from pathlib import Path\n",
    "second_level =Path('/home/neel/Documents/SPM_results/second_level')\n",
    "min_cluster_size = 20\n",
    "for tmap in second_level.glob('**/*.nii*'):\n",
    "    if tmap.name.endswith('left.nii.gz'):\n",
    "        output_file = tmap.parent / 'spmT_0001_left_Ke_20.nii.gz'\n",
    "        with open(tmap.parent / 'u_threshold.txt') as f:\n",
    "            height_threshold = float(f.read())\n",
    "        spm_extent_threshold(tmap, output_file, height_threshold=height_threshold, extent_threshold_voxels=min_cluster_size)\n",
    "    if tmap.name.endswith('right.nii.gz'):\n",
    "        output_file = tmap.parent / 'spmT_0001_right_Ke_20.nii.gz'\n",
    "        with open(tmap.parent / 'u_threshold.txt') as f:\n",
    "            height_threshold = float(f.read())\n",
    "        spm_extent_threshold(tmap, output_file, height_threshold=height_threshold, extent_threshold_voxels=min_cluster_size)\n",
    "    if tmap.name == 'spmT_0001.nii':\n",
    "        output_file = tmap.parent / 'spmT_0001_Ke_20.nii.gz'\n",
    "        with open(tmap.parent / 'u_threshold.txt') as f:\n",
    "            height_threshold = float(f.read())\n",
    "        spm_extent_threshold(tmap, output_file, height_threshold=height_threshold, extent_threshold_voxels=min_cluster_size)\n",
    "\n"
   ]
  },
  {
   "cell_type": "code",
   "execution_count": null,
   "metadata": {},
   "outputs": [],
   "source": []
  }
 ],
 "metadata": {
  "kernelspec": {
   "display_name": "dti",
   "language": "python",
   "name": "python3"
  },
  "language_info": {
   "codemirror_mode": {
    "name": "ipython",
    "version": 3
   },
   "file_extension": ".py",
   "mimetype": "text/x-python",
   "name": "python",
   "nbconvert_exporter": "python",
   "pygments_lexer": "ipython3",
   "version": "3.8.18"
  }
 },
 "nbformat": 4,
 "nbformat_minor": 2
}
