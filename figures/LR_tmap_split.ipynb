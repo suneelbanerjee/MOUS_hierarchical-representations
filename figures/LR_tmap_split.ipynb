{
 "cells": [
  {
   "cell_type": "code",
   "execution_count": 11,
   "metadata": {},
   "outputs": [],
   "source": [
    "import nibabel as nib\n",
    "import numpy as np\n",
    "import os"
   ]
  },
  {
   "cell_type": "code",
   "execution_count": 13,
   "metadata": {},
   "outputs": [],
   "source": [
    "def split_tmap_hemispheres(tmap_path, output_dir):\n",
    "    # Load the T-map NIfTI file\n",
    "    img = nib.load(str(tmap_path))\n",
    "    data = img.get_fdata()\n",
    "    affine = img.affine\n",
    "    \n",
    "    # Get the voxel indices for the middle (x=0) based on the affine\n",
    "    x_voxel_coords = np.arange(data.shape[0])  # Get voxel indices along x-axis\n",
    "    x_world_coords = nib.affines.apply_affine(affine, np.column_stack([x_voxel_coords, np.zeros_like(x_voxel_coords), np.zeros_like(x_voxel_coords)]))[:, 0]\n",
    "    \n",
    "    # Find the voxel index closest to x=0 in world space\n",
    "    mid_x_index = np.argmin(np.abs(x_world_coords))\n",
    "\n",
    "    # Create left hemisphere (erase right, x > 0)\n",
    "    left_data = data.copy()\n",
    "    left_data[mid_x_index:, :, :] = 0  # Zero out right hemisphere\n",
    "    left_img = nib.Nifti1Image(left_data, affine, img.header)\n",
    "    left_output_path = os.path.join(output_dir, f'{tmap_path.stem}_left.nii.gz')\n",
    "    nib.save(left_img, left_output_path)\n",
    "\n",
    "    # Create right hemisphere (erase left, x < 0)\n",
    "    right_data = data.copy()\n",
    "    right_data[:mid_x_index, :, :] = 0  # Zero out left hemisphere\n",
    "    right_img = nib.Nifti1Image(right_data, affine, img.header)\n",
    "    right_output_path = os.path.join(output_dir, f'{tmap_path.stem}_right.nii.gz')\n",
    "    nib.save(right_img, right_output_path)\n",
    "\n",
    "    print(f\"Saved left hemisphere T-map to: {left_output_path}\")\n",
    "    print(f\"Saved right hemisphere T-map to: {right_output_path}\")\n",
    "\n",
    "# Example usage\n",
    "from pathlib import Path\n",
    "\n",
    "second_level = Path('path_to_second_level_directory')  # Replace with actual directory\n",
    "for tmap in second_level.glob('**/spmT_0001.nii'):\n",
    "    print(f\"Processing: {tmap}\")\n",
    "    split_tmap_hemispheres(tmap, tmap.parent)"
   ]
  },
  {
   "cell_type": "code",
   "execution_count": 14,
   "metadata": {},
   "outputs": [
    {
     "name": "stdout",
     "output_type": "stream",
     "text": [
      "/home/neel/Documents/SPM_results/second_level/SPM-A_II_multireg_test (FINAL)/spmT_0001.nii\n",
      "Saved left hemisphere T-map to: /home/neel/Documents/SPM_results/second_level/SPM-A_II_multireg_test (FINAL)/spmT_0001_left.nii.gz\n",
      "Saved right hemisphere T-map to: /home/neel/Documents/SPM_results/second_level/SPM-A_II_multireg_test (FINAL)/spmT_0001_right.nii.gz\n",
      "/home/neel/Documents/SPM_results/second_level/SPM-V_II_Zipf_multireg_december_allsubs (FINAL)/spmT_0001.nii\n",
      "Saved left hemisphere T-map to: /home/neel/Documents/SPM_results/second_level/SPM-V_II_Zipf_multireg_december_allsubs (FINAL)/spmT_0001_left.nii.gz\n",
      "Saved right hemisphere T-map to: /home/neel/Documents/SPM_results/second_level/SPM-V_II_Zipf_multireg_december_allsubs (FINAL)/spmT_0001_right.nii.gz\n",
      "/home/neel/Documents/SPM_results/second_level/SPM-V_II_Lg10BG_multireg_november/spmT_0001.nii\n",
      "Saved left hemisphere T-map to: /home/neel/Documents/SPM_results/second_level/SPM-V_II_Lg10BG_multireg_november/spmT_0001_left.nii.gz\n",
      "Saved right hemisphere T-map to: /home/neel/Documents/SPM_results/second_level/SPM-V_II_Lg10BG_multireg_november/spmT_0001_right.nii.gz\n",
      "/home/neel/Documents/SPM_results/second_level/SPM-A_II_syllables_IPA_eSpeak_ijfix2/spmT_0001.nii\n",
      "Saved left hemisphere T-map to: /home/neel/Documents/SPM_results/second_level/SPM-A_II_syllables_IPA_eSpeak_ijfix2/spmT_0001_left.nii.gz\n",
      "Saved right hemisphere T-map to: /home/neel/Documents/SPM_results/second_level/SPM-A_II_syllables_IPA_eSpeak_ijfix2/spmT_0001_right.nii.gz\n"
     ]
    }
   ],
   "source": [
    "from pathlib import Path\n",
    "second_level =Path('/home/neel/Documents/SPM_results/second_level')\n",
    "for tmap in second_level.glob('**/spmT_0001.nii'):\n",
    "    print(tmap)\n",
    "    split_tmap_hemispheres(tmap, tmap.parent)\n"
   ]
  },
  {
   "cell_type": "code",
   "execution_count": null,
   "metadata": {},
   "outputs": [],
   "source": []
  }
 ],
 "metadata": {
  "kernelspec": {
   "display_name": "dti",
   "language": "python",
   "name": "python3"
  },
  "language_info": {
   "codemirror_mode": {
    "name": "ipython",
    "version": 3
   },
   "file_extension": ".py",
   "mimetype": "text/x-python",
   "name": "python",
   "nbconvert_exporter": "python",
   "pygments_lexer": "ipython3",
   "version": "3.8.18"
  }
 },
 "nbformat": 4,
 "nbformat_minor": 2
}
