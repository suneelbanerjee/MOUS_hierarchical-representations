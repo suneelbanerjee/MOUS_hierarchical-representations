{
 "cells": [
  {
   "cell_type": "code",
   "execution_count": 1,
   "metadata": {},
   "outputs": [],
   "source": [
    "import nibabel as nib\n",
    "import numpy as np\n",
    "from nilearn.image import new_img_like"
   ]
  },
  {
   "cell_type": "code",
   "execution_count": 2,
   "metadata": {},
   "outputs": [],
   "source": [
    "import nibabel as nib\n",
    "import numpy as np\n",
    "from nilearn.image import new_img_like\n",
    "\n",
    "def generate_sphere_at_mni(coords, radius, template_img_path, output_path):\n",
    "    \"\"\"\n",
    "    Generate a spherical mask at specified MNI coordinates.\n",
    "\n",
    "    Parameters:\n",
    "        coords (tuple): MNI coordinates (x, y, z)\n",
    "        radius (float): Radius of the sphere in millimeters\n",
    "        template_img_path (str): Path to the template image for affine\n",
    "        output_path (str): Path to save the generated spherical mask\n",
    "\n",
    "    Returns:\n",
    "        nibabel.Nifti1Image: Nifti image of the generated sphere\n",
    "    \"\"\"\n",
    "    template_img = nib.load(template_img_path)\n",
    "    affine = template_img.affine\n",
    "    inv_affine = np.linalg.inv(affine)\n",
    "    data_shape = template_img.shape\n",
    "    mask_data = np.zeros(data_shape, dtype=np.uint8)\n",
    "\n",
    "    # Compute voxel indices for sphere\n",
    "    center_voxel = nib.affines.apply_affine(inv_affine, coords).astype(int)\n",
    "    x, y, z = np.indices(data_shape)\n",
    "    dist = np.sqrt((x - center_voxel[0])**2 + (y - center_voxel[1])**2 + (z - center_voxel[2])**2)\n",
    "    mask_data[dist <= (radius / np.mean(np.abs(np.diag(affine)[:3])))] = 1\n",
    "\n",
    "    # Create and save NIfTI image\n",
    "    sphere_img = new_img_like(template_img, mask_data)\n",
    "    sphere_img.to_filename(output_path)\n",
    "\n",
    "    return sphere_img\n",
    "\n"
   ]
  },
  {
   "cell_type": "code",
   "execution_count": 3,
   "metadata": {},
   "outputs": [],
   "source": [
    "# Example usage\n",
    "sphere_img = generate_sphere_at_mni(coords=(-62, -14, 2),\n",
    "                                    radius=6,\n",
    "                                    template_img_path='mni152.nii.gz',\n",
    "                                    output_path='AWFA_sphere.nii.gz')\n"
   ]
  }
 ],
 "metadata": {
  "kernelspec": {
   "display_name": "dti",
   "language": "python",
   "name": "python3"
  },
  "language_info": {
   "codemirror_mode": {
    "name": "ipython",
    "version": 3
   },
   "file_extension": ".py",
   "mimetype": "text/x-python",
   "name": "python",
   "nbconvert_exporter": "python",
   "pygments_lexer": "ipython3",
   "version": "3.8.18"
  }
 },
 "nbformat": 4,
 "nbformat_minor": 2
}
